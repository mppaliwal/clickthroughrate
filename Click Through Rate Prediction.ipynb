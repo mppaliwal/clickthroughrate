{
 "cells": [
  {
   "cell_type": "code",
   "execution_count": 183,
   "id": "97e3349d",
   "metadata": {},
   "outputs": [],
   "source": [
    "# importing libraries\n",
    "import numpy as n\n",
    "import pandas as pd\n",
    "import seaborn as sns\n",
    "import matplotlib.pyplot as plt\n",
    "import warnings\n",
    "warnings.filterwarnings('ignore')"
   ]
  },
  {
   "cell_type": "code",
   "execution_count": 184,
   "id": "9b4dafdb",
   "metadata": {},
   "outputs": [],
   "source": [
    "# load data into dataframe Train\n",
    "train = pd.read_csv(\"data.csv\")"
   ]
  },
  {
   "cell_type": "code",
   "execution_count": 185,
   "id": "78fe90b2",
   "metadata": {},
   "outputs": [
    {
     "data": {
      "text/plain": [
       "(99999, 27)"
      ]
     },
     "execution_count": 185,
     "metadata": {},
     "output_type": "execute_result"
    }
   ],
   "source": [
    "# check shape of dataframe\n",
    "train.shape"
   ]
  },
  {
   "cell_type": "code",
   "execution_count": 186,
   "id": "cfb75905",
   "metadata": {},
   "outputs": [
    {
     "data": {
      "text/plain": [
       "click                 bool\n",
       "C1                   int64\n",
       "banner_pos           int64\n",
       "site_id             object\n",
       "site_domain         object\n",
       "site_category       object\n",
       "app_id              object\n",
       "app_domain          object\n",
       "app_category        object\n",
       "device_id           object\n",
       "device_ip           object\n",
       "device_model        object\n",
       "device_type          int64\n",
       "device_conn_type     int64\n",
       "C14                  int64\n",
       "C15                  int64\n",
       "C16                  int64\n",
       "C17                  int64\n",
       "C18                  int64\n",
       "C19                  int64\n",
       "C20                  int64\n",
       "C21                  int64\n",
       "month                int64\n",
       "dayofweek            int64\n",
       "day                  int64\n",
       "hour                 int64\n",
       "y                    int64\n",
       "dtype: object"
      ]
     },
     "execution_count": 186,
     "metadata": {},
     "output_type": "execute_result"
    }
   ],
   "source": [
    "# check datatypes of dataframe\n",
    "train.dtypes"
   ]
  },
  {
   "cell_type": "code",
   "execution_count": 200,
   "id": "aa497775",
   "metadata": {},
   "outputs": [
    {
     "data": {
      "text/html": [
       "<div>\n",
       "<style scoped>\n",
       "    .dataframe tbody tr th:only-of-type {\n",
       "        vertical-align: middle;\n",
       "    }\n",
       "\n",
       "    .dataframe tbody tr th {\n",
       "        vertical-align: top;\n",
       "    }\n",
       "\n",
       "    .dataframe thead th {\n",
       "        text-align: right;\n",
       "    }\n",
       "</style>\n",
       "<table border=\"1\" class=\"dataframe\">\n",
       "  <thead>\n",
       "    <tr style=\"text-align: right;\">\n",
       "      <th></th>\n",
       "      <th>C1</th>\n",
       "      <th>banner_pos</th>\n",
       "      <th>device_type</th>\n",
       "      <th>device_conn_type</th>\n",
       "      <th>C14</th>\n",
       "      <th>C15</th>\n",
       "      <th>C16</th>\n",
       "      <th>C17</th>\n",
       "      <th>C18</th>\n",
       "      <th>C19</th>\n",
       "      <th>C20</th>\n",
       "      <th>C21</th>\n",
       "      <th>month</th>\n",
       "      <th>dayofweek</th>\n",
       "      <th>day</th>\n",
       "      <th>hour</th>\n",
       "      <th>y</th>\n",
       "    </tr>\n",
       "  </thead>\n",
       "  <tbody>\n",
       "    <tr>\n",
       "      <th>count</th>\n",
       "      <td>99999.000000</td>\n",
       "      <td>99999.000000</td>\n",
       "      <td>99999.00000</td>\n",
       "      <td>99999.000000</td>\n",
       "      <td>99999.000000</td>\n",
       "      <td>99999.000000</td>\n",
       "      <td>99999.000000</td>\n",
       "      <td>99999.000000</td>\n",
       "      <td>99999.000000</td>\n",
       "      <td>99999.000000</td>\n",
       "      <td>99999.000000</td>\n",
       "      <td>99999.000000</td>\n",
       "      <td>99999.0</td>\n",
       "      <td>99999.000000</td>\n",
       "      <td>99999.000000</td>\n",
       "      <td>99999.000000</td>\n",
       "      <td>99999.000000</td>\n",
       "    </tr>\n",
       "    <tr>\n",
       "      <th>mean</th>\n",
       "      <td>1004.967550</td>\n",
       "      <td>0.289943</td>\n",
       "      <td>1.01639</td>\n",
       "      <td>0.329453</td>\n",
       "      <td>18857.231732</td>\n",
       "      <td>318.834548</td>\n",
       "      <td>60.278743</td>\n",
       "      <td>2114.613036</td>\n",
       "      <td>1.439904</td>\n",
       "      <td>227.234932</td>\n",
       "      <td>53292.001950</td>\n",
       "      <td>83.163542</td>\n",
       "      <td>10.0</td>\n",
       "      <td>2.592836</td>\n",
       "      <td>25.485755</td>\n",
       "      <td>11.300673</td>\n",
       "      <td>0.169802</td>\n",
       "    </tr>\n",
       "    <tr>\n",
       "      <th>std</th>\n",
       "      <td>1.091916</td>\n",
       "      <td>0.505707</td>\n",
       "      <td>0.53110</td>\n",
       "      <td>0.854673</td>\n",
       "      <td>4944.919482</td>\n",
       "      <td>21.510752</td>\n",
       "      <td>47.713436</td>\n",
       "      <td>607.469442</td>\n",
       "      <td>1.326824</td>\n",
       "      <td>351.472366</td>\n",
       "      <td>49952.340367</td>\n",
       "      <td>70.161076</td>\n",
       "      <td>0.0</td>\n",
       "      <td>1.723003</td>\n",
       "      <td>2.968520</td>\n",
       "      <td>5.938725</td>\n",
       "      <td>0.375460</td>\n",
       "    </tr>\n",
       "    <tr>\n",
       "      <th>min</th>\n",
       "      <td>1001.000000</td>\n",
       "      <td>0.000000</td>\n",
       "      <td>0.00000</td>\n",
       "      <td>0.000000</td>\n",
       "      <td>375.000000</td>\n",
       "      <td>120.000000</td>\n",
       "      <td>20.000000</td>\n",
       "      <td>112.000000</td>\n",
       "      <td>0.000000</td>\n",
       "      <td>33.000000</td>\n",
       "      <td>-1.000000</td>\n",
       "      <td>1.000000</td>\n",
       "      <td>10.0</td>\n",
       "      <td>0.000000</td>\n",
       "      <td>21.000000</td>\n",
       "      <td>0.000000</td>\n",
       "      <td>0.000000</td>\n",
       "    </tr>\n",
       "    <tr>\n",
       "      <th>25%</th>\n",
       "      <td>1005.000000</td>\n",
       "      <td>0.000000</td>\n",
       "      <td>1.00000</td>\n",
       "      <td>0.000000</td>\n",
       "      <td>16920.000000</td>\n",
       "      <td>320.000000</td>\n",
       "      <td>50.000000</td>\n",
       "      <td>1863.000000</td>\n",
       "      <td>0.000000</td>\n",
       "      <td>35.000000</td>\n",
       "      <td>-1.000000</td>\n",
       "      <td>23.000000</td>\n",
       "      <td>10.0</td>\n",
       "      <td>1.000000</td>\n",
       "      <td>23.000000</td>\n",
       "      <td>7.000000</td>\n",
       "      <td>0.000000</td>\n",
       "    </tr>\n",
       "    <tr>\n",
       "      <th>50%</th>\n",
       "      <td>1005.000000</td>\n",
       "      <td>0.000000</td>\n",
       "      <td>1.00000</td>\n",
       "      <td>0.000000</td>\n",
       "      <td>20346.000000</td>\n",
       "      <td>320.000000</td>\n",
       "      <td>50.000000</td>\n",
       "      <td>2323.000000</td>\n",
       "      <td>2.000000</td>\n",
       "      <td>39.000000</td>\n",
       "      <td>100050.000000</td>\n",
       "      <td>61.000000</td>\n",
       "      <td>10.0</td>\n",
       "      <td>2.000000</td>\n",
       "      <td>26.000000</td>\n",
       "      <td>11.000000</td>\n",
       "      <td>0.000000</td>\n",
       "    </tr>\n",
       "    <tr>\n",
       "      <th>75%</th>\n",
       "      <td>1005.000000</td>\n",
       "      <td>1.000000</td>\n",
       "      <td>1.00000</td>\n",
       "      <td>0.000000</td>\n",
       "      <td>21893.000000</td>\n",
       "      <td>320.000000</td>\n",
       "      <td>50.000000</td>\n",
       "      <td>2526.000000</td>\n",
       "      <td>3.000000</td>\n",
       "      <td>171.000000</td>\n",
       "      <td>100093.000000</td>\n",
       "      <td>101.000000</td>\n",
       "      <td>10.0</td>\n",
       "      <td>4.000000</td>\n",
       "      <td>28.000000</td>\n",
       "      <td>16.000000</td>\n",
       "      <td>0.000000</td>\n",
       "    </tr>\n",
       "    <tr>\n",
       "      <th>max</th>\n",
       "      <td>1012.000000</td>\n",
       "      <td>7.000000</td>\n",
       "      <td>5.00000</td>\n",
       "      <td>5.000000</td>\n",
       "      <td>24043.000000</td>\n",
       "      <td>1024.000000</td>\n",
       "      <td>1024.000000</td>\n",
       "      <td>2757.000000</td>\n",
       "      <td>3.000000</td>\n",
       "      <td>1839.000000</td>\n",
       "      <td>100248.000000</td>\n",
       "      <td>255.000000</td>\n",
       "      <td>10.0</td>\n",
       "      <td>6.000000</td>\n",
       "      <td>30.000000</td>\n",
       "      <td>23.000000</td>\n",
       "      <td>1.000000</td>\n",
       "    </tr>\n",
       "  </tbody>\n",
       "</table>\n",
       "</div>"
      ],
      "text/plain": [
       "                 C1    banner_pos  device_type  device_conn_type  \\\n",
       "count  99999.000000  99999.000000  99999.00000      99999.000000   \n",
       "mean    1004.967550      0.289943      1.01639          0.329453   \n",
       "std        1.091916      0.505707      0.53110          0.854673   \n",
       "min     1001.000000      0.000000      0.00000          0.000000   \n",
       "25%     1005.000000      0.000000      1.00000          0.000000   \n",
       "50%     1005.000000      0.000000      1.00000          0.000000   \n",
       "75%     1005.000000      1.000000      1.00000          0.000000   \n",
       "max     1012.000000      7.000000      5.00000          5.000000   \n",
       "\n",
       "                C14           C15           C16           C17           C18  \\\n",
       "count  99999.000000  99999.000000  99999.000000  99999.000000  99999.000000   \n",
       "mean   18857.231732    318.834548     60.278743   2114.613036      1.439904   \n",
       "std     4944.919482     21.510752     47.713436    607.469442      1.326824   \n",
       "min      375.000000    120.000000     20.000000    112.000000      0.000000   \n",
       "25%    16920.000000    320.000000     50.000000   1863.000000      0.000000   \n",
       "50%    20346.000000    320.000000     50.000000   2323.000000      2.000000   \n",
       "75%    21893.000000    320.000000     50.000000   2526.000000      3.000000   \n",
       "max    24043.000000   1024.000000   1024.000000   2757.000000      3.000000   \n",
       "\n",
       "                C19            C20           C21    month     dayofweek  \\\n",
       "count  99999.000000   99999.000000  99999.000000  99999.0  99999.000000   \n",
       "mean     227.234932   53292.001950     83.163542     10.0      2.592836   \n",
       "std      351.472366   49952.340367     70.161076      0.0      1.723003   \n",
       "min       33.000000      -1.000000      1.000000     10.0      0.000000   \n",
       "25%       35.000000      -1.000000     23.000000     10.0      1.000000   \n",
       "50%       39.000000  100050.000000     61.000000     10.0      2.000000   \n",
       "75%      171.000000  100093.000000    101.000000     10.0      4.000000   \n",
       "max     1839.000000  100248.000000    255.000000     10.0      6.000000   \n",
       "\n",
       "                day          hour             y  \n",
       "count  99999.000000  99999.000000  99999.000000  \n",
       "mean      25.485755     11.300673      0.169802  \n",
       "std        2.968520      5.938725      0.375460  \n",
       "min       21.000000      0.000000      0.000000  \n",
       "25%       23.000000      7.000000      0.000000  \n",
       "50%       26.000000     11.000000      0.000000  \n",
       "75%       28.000000     16.000000      0.000000  \n",
       "max       30.000000     23.000000      1.000000  "
      ]
     },
     "execution_count": 200,
     "metadata": {},
     "output_type": "execute_result"
    }
   ],
   "source": [
    "# Checking for outlier. This data does not contain outliers\n",
    "train.describe()"
   ]
  },
  {
   "cell_type": "code",
   "execution_count": 187,
   "id": "303112ea",
   "metadata": {},
   "outputs": [
    {
     "data": {
      "text/plain": [
       "False    83019\n",
       "True     16980\n",
       "Name: click, dtype: int64"
      ]
     },
     "execution_count": 187,
     "metadata": {},
     "output_type": "execute_result"
    }
   ],
   "source": [
    "# check count of clicks\n",
    "train['click'].value_counts()"
   ]
  },
  {
   "cell_type": "code",
   "execution_count": 188,
   "id": "3b3a083d",
   "metadata": {},
   "outputs": [
    {
     "data": {
      "text/plain": [
       "click               0\n",
       "C1                  0\n",
       "banner_pos          0\n",
       "site_id             0\n",
       "site_domain         0\n",
       "site_category       0\n",
       "app_id              0\n",
       "app_domain          0\n",
       "app_category        0\n",
       "device_id           0\n",
       "device_ip           0\n",
       "device_model        0\n",
       "device_type         0\n",
       "device_conn_type    0\n",
       "C14                 0\n",
       "C15                 0\n",
       "C16                 0\n",
       "C17                 0\n",
       "C18                 0\n",
       "C19                 0\n",
       "C20                 0\n",
       "C21                 0\n",
       "month               0\n",
       "dayofweek           0\n",
       "day                 0\n",
       "hour                0\n",
       "y                   0\n",
       "dtype: int64"
      ]
     },
     "execution_count": 188,
     "metadata": {},
     "output_type": "execute_result"
    }
   ],
   "source": [
    "# check for null data. We did find any null records in dataframe\n",
    "train.isnull().sum()"
   ]
  },
  {
   "cell_type": "code",
   "execution_count": 49,
   "id": "4f025509",
   "metadata": {},
   "outputs": [
    {
     "data": {
      "image/png": "[encoded data removed]",
      "text/plain": [
       "<Figure size 640x480 with 1 Axes>"
      ]
     },
     "metadata": {},
     "output_type": "display_data"
    }
   ],
   "source": [
    "# plot a graph for click\n",
    "sns.countplot(x='click',data=train, palette='hls')\n",
    "plt.show();"
   ]
  },
  {
   "cell_type": "code",
   "execution_count": 50,
   "id": "47d85024",
   "metadata": {},
   "outputs": [
    {
     "data": {
      "text/plain": [
       "False    0.830198\n",
       "True     0.169802\n",
       "Name: click, dtype: float64"
      ]
     },
     "execution_count": 50,
     "metadata": {},
     "output_type": "execute_result"
    }
   ],
   "source": [
    "# check click through rate. approx 83% did not click and 17% clicked\n",
    "train['click'].value_counts()/len(train)"
   ]
  },
  {
   "cell_type": "code",
   "execution_count": 51,
   "id": "745c0bf4",
   "metadata": {},
   "outputs": [
    {
     "data": {
      "image/png": "[encoded data removed]",
      "text/plain": [
       "<Figure size 1600x600 with 1 Axes>"
      ]
     },
     "metadata": {},
     "output_type": "display_data"
    }
   ],
   "source": [
    "# plot graph for no of clicks per hour. we see peak hours are at 9 and 13\n",
    "train.groupby('hour').agg({'click':'sum'}).plot(figsize=(16,6))\n",
    "plt.ylabel('No of clicks')\n",
    "plt.title('No of clicks per hour');"
   ]
  },
  {
   "cell_type": "code",
   "execution_count": 62,
   "id": "da06ce8a",
   "metadata": {},
   "outputs": [
    {
     "data": {
      "image/png": "[encoded data removed]",
      "text/plain": [
       "<Figure size 1200x600 with 1 Axes>"
      ]
     },
     "metadata": {},
     "output_type": "display_data"
    }
   ],
   "source": [
    "# CTR per hour\n",
    "df_click = train[train['click'] == 1]\n",
    "df_hour = train[['hour','click']].groupby(['hour']).count().reset_index()\n",
    "df_hour = df_hour.rename(columns={'click': 'impressions'})\n",
    "df_hour['clicks'] = df_click[['hour','click']].groupby(['hour']).count().reset_index()['click']\n",
    "df_hour['CTR'] = df_hour['clicks']/df_hour['impressions']*100\n",
    "\n",
    "plt.figure(figsize=(12,6))\n",
    "sns.barplot(y='CTR', x='hour', data=df_hour)\n",
    "plt.title('CTR per hour');"
   ]
  },
  {
   "cell_type": "code",
   "execution_count": 95,
   "id": "1f34aa0a",
   "metadata": {},
   "outputs": [
    {
     "name": "stdout",
     "output_type": "stream",
     "text": [
      "0    0.717787\n",
      "1    0.280523\n",
      "7    0.001070\n",
      "2    0.000300\n",
      "4    0.000190\n",
      "5    0.000090\n",
      "3    0.000040\n",
      "Name: banner_pos, dtype: float64\n"
     ]
    }
   ],
   "source": [
    "# analysis on banner position\n",
    "print(train.banner_pos.value_counts()/len(train))"
   ]
  },
  {
   "cell_type": "code",
   "execution_count": 189,
   "id": "8db45669",
   "metadata": {},
   "outputs": [
    {
     "name": "stdout",
     "output_type": "stream",
     "text": [
      "1005    0.918629\n",
      "1002    0.054941\n",
      "1010    0.022660\n",
      "1012    0.002540\n",
      "1007    0.000930\n",
      "1001    0.000210\n",
      "1008    0.000090\n",
      "Name: C1, dtype: float64\n"
     ]
    }
   ],
   "source": [
    "# Analysis on C1 feature. C1 value = 1005 has 92% data\n",
    "print(train.C1.value_counts()/len(train))"
   ]
  },
  {
   "cell_type": "code",
   "execution_count": 192,
   "id": "b41f13d5",
   "metadata": {},
   "outputs": [
    {
     "data": {
      "image/png": "[encoded data removed]",
      "text/plain": [
       "<Figure size 1200x600 with 1 Axes>"
      ]
     },
     "metadata": {},
     "output_type": "display_data"
    }
   ],
   "source": [
    "train.groupby(['C1', 'click']).size().unstack().plot(kind='bar', figsize=(12,6), title='C1 histogram');"
   ]
  },
  {
   "cell_type": "code",
   "execution_count": 194,
   "id": "07dadcff",
   "metadata": {},
   "outputs": [
    {
     "data": {
      "image/png": "[encoded data removed]",
      "text/plain": [
       "<Figure size 1200x600 with 1 Axes>"
      ]
     },
     "metadata": {},
     "output_type": "display_data"
    }
   ],
   "source": [
    "# CTR by C1. 1008 has the highest CTR\n",
    "df_c1 = train[['C1','click']].groupby(['C1']).count().reset_index()\n",
    "df_c1 = df_c1.rename(columns={'click': 'impressions'})\n",
    "df_c1['clicks'] = df_click[['C1','click']].groupby(['C1']).count().reset_index()['click']\n",
    "df_c1['CTR'] = df_c1['clicks']/df_c1['impressions']*100\n",
    "plt.figure(figsize=(12,6))\n",
    "sns.barplot(y='CTR', x='C1', data=df_c1)\n",
    "plt.title('CTR by C1');"
   ]
  },
  {
   "cell_type": "code",
   "execution_count": 98,
   "id": "b9cbd091",
   "metadata": {},
   "outputs": [
    {
     "data": {
      "image/png": "[encoded data removed]",
      "text/plain": [
       "<Figure size 1200x600 with 1 Axes>"
      ]
     },
     "metadata": {},
     "output_type": "display_data"
    }
   ],
   "source": [
    "# plot click viz-a-viz banner position. we see that only two banner position i.e. 0 and 1 are significant\n",
    "train.groupby(['banner_pos', 'click']).size().unstack().plot(kind='bar', figsize=(12,6), title='banner position');"
   ]
  },
  {
   "cell_type": "code",
   "execution_count": 100,
   "id": "eba16ad3",
   "metadata": {},
   "outputs": [
    {
     "data": {
      "image/png": "[encoded data removed]",
      "text/plain": [
       "<Figure size 1200x600 with 1 Axes>"
      ]
     },
     "metadata": {},
     "output_type": "display_data"
    }
   ],
   "source": [
    "# if we check CTR for every banner position, we see that position 5 has highest CTR\n",
    "df_banner = train[['banner_pos','click']].groupby(['banner_pos']).count().reset_index()\n",
    "df_banner = df_banner.rename(columns={'click': 'impressions'})\n",
    "df_banner['clicks'] = df_click[['banner_pos','click']].groupby(['banner_pos']).count().reset_index()['click']\n",
    "df_banner['CTR'] = df_banner['clicks']/df_banner['impressions']*100\n",
    "sort_banners = df_banner.sort_values(by='CTR',ascending=False)['banner_pos'].tolist()\n",
    "plt.figure(figsize=(12,6))\n",
    "sns.barplot(y='CTR', x='banner_pos', data=df_banner, order=sort_banners)\n",
    "plt.title('CTR by banner position');"
   ]
  },
  {
   "cell_type": "code",
   "execution_count": 196,
   "id": "5c9550e1",
   "metadata": {},
   "outputs": [
    {
     "name": "stdout",
     "output_type": "stream",
     "text": [
      "for banner position: 0,  click through rate: 0.16530134581626682\n",
      "for banner position: 1,  click through rate: 0.1808783687437616\n",
      "for banner position: 2,  click through rate: 0.16666666666666666\n",
      "for banner position: 3,  click through rate: 0.25\n",
      "for banner position: 4,  click through rate: 0.05263157894736842\n",
      "for banner position: 5,  click through rate: 0.0\n",
      "for banner position: 7,  click through rate: 0.3177570093457944\n"
     ]
    }
   ],
   "source": [
    "# Handling categorical variable banner\n",
    "banner_pos = train.banner_pos.unique()\n",
    "banner_pos.sort()\n",
    "ctr_avg_list=[]\n",
    "for i in banner_pos:\n",
    "    ctr_avg=train.loc[n.where((train.banner_pos == i))].click.mean()\n",
    "    ctr_avg_list.append(ctr_avg)\n",
    "    print(\"for banner position: {},  click through rate: {}\".format(i,ctr_avg))"
   ]
  },
  {
   "cell_type": "code",
   "execution_count": 104,
   "id": "d68d1034",
   "metadata": {},
   "outputs": [
    {
     "data": {
      "image/png": "[encoded data removed]",
      "text/plain": [
       "<Figure size 1200x600 with 1 Axes>"
      ]
     },
     "metadata": {},
     "output_type": "display_data"
    }
   ],
   "source": [
    "# plot a graph to check which site has most clicks\n",
    "top10_ids = (train.site_id.value_counts()/len(train))[0:10].index\n",
    "top10_sites = train[(train.site_id.isin((train.site_id.value_counts()/len(train))[0:10].index))]\n",
    "top10_sites_click = top10_sites[top10_sites['click'] == 1]\n",
    "df_site = top10_sites[['site_id','click']].groupby(['site_id']).count().reset_index()\n",
    "df_site = df_site.rename(columns={'click': 'impressions'})\n",
    "df_site['clicks'] = top10_sites_click[['site_id','click']].groupby(['site_id']).count().reset_index()['click']\n",
    "df_site['CTR'] = df_site['clicks']/df_site['impressions']*100\n",
    "sort_site = df_site.sort_values(by='CTR',ascending=False)['site_id'].tolist()\n",
    "plt.figure(figsize=(12,6))\n",
    "sns.barplot(y='CTR', x='site_id', data=df_site, order=sort_site)\n",
    "plt.title('CTR by top 10 site id');"
   ]
  },
  {
   "cell_type": "code",
   "execution_count": 107,
   "id": "0ad5d1c9",
   "metadata": {},
   "outputs": [
    {
     "data": {
      "image/png": "[encoded data removed]",
      "text/plain": [
       "<Figure size 1200x600 with 1 Axes>"
      ]
     },
     "metadata": {},
     "output_type": "display_data"
    }
   ],
   "source": [
    "# plot graph to check which device id has highest clicks\n",
    "top10_devices = (train.device_id.value_counts()/len(train))[0:10].index\n",
    "top10_device = train[(train.device_id.isin((train.device_id.value_counts()/len(train))[0:10].index))]\n",
    "top10_device_click = top10_device[top10_device['click'] == 1]\n",
    "top10_device.groupby(['device_id', 'click']).size().unstack().plot(kind='bar', figsize=(12,6), title='Top 10 device ids');\n"
   ]
  },
  {
   "cell_type": "code",
   "execution_count": 108,
   "id": "b072cc4c",
   "metadata": {},
   "outputs": [
    {
     "data": {
      "image/png": "[encoded data removed]",
      "text/plain": [
       "<Figure size 640x480 with 1 Axes>"
      ]
     },
     "metadata": {},
     "output_type": "display_data"
    }
   ],
   "source": [
    "# plot a graph to check which device type has highest clicks\n",
    "train[['device_type','click']].groupby(['device_type','click']).size().unstack().plot(kind='bar', title='device types');"
   ]
  },
  {
   "cell_type": "code",
   "execution_count": 110,
   "id": "09302d00",
   "metadata": {},
   "outputs": [
    {
     "data": {
      "text/plain": [
       "<AxesSubplot: title={'center': 'App Category v/s Clicks'}>"
      ]
     },
     "execution_count": 110,
     "metadata": {},
     "output_type": "execute_result"
    },
    {
     "data": {
      "image/png": "[encoded data removed]",
      "text/plain": [
       "<Figure size 640x480 with 1 Axes>"
      ]
     },
     "metadata": {},
     "output_type": "display_data"
    }
   ],
   "source": [
    "# plot a graph to check which app category has highest clicks\n",
    "train['app_category'].value_counts().plot(kind='bar', title='App Category v/s Clicks')"
   ]
  },
  {
   "cell_type": "code",
   "execution_count": 131,
   "id": "ee1bf627",
   "metadata": {},
   "outputs": [],
   "source": [
    "# converting string objects to int\n",
    "def convert_obj_to_int(self):\n",
    "    \n",
    "    object_list_columns = self.columns\n",
    "    object_list_dtypes = self.dtypes\n",
    "    new_col_suffix = '_int'\n",
    "    for index in range(0,len(object_list_columns)):\n",
    "        if object_list_dtypes[index] == object :\n",
    "            self[object_list_columns[index]+new_col_suffix] = self[object_list_columns[index]].map( lambda  x: hash(x))\n",
    "            self.drop([object_list_columns[index]],inplace=True,axis=1)\n",
    "    return self\n",
    "train = convert_obj_to_int(train)"
   ]
  },
  {
   "cell_type": "code",
   "execution_count": 135,
   "id": "f88df22f",
   "metadata": {},
   "outputs": [
    {
     "data": {
      "text/html": [
       "<div>\n",
       "<style scoped>\n",
       "    .dataframe tbody tr th:only-of-type {\n",
       "        vertical-align: middle;\n",
       "    }\n",
       "\n",
       "    .dataframe tbody tr th {\n",
       "        vertical-align: top;\n",
       "    }\n",
       "\n",
       "    .dataframe thead th {\n",
       "        text-align: right;\n",
       "    }\n",
       "</style>\n",
       "<table border=\"1\" class=\"dataframe\">\n",
       "  <thead>\n",
       "    <tr style=\"text-align: right;\">\n",
       "      <th></th>\n",
       "      <th>click</th>\n",
       "      <th>C1</th>\n",
       "      <th>banner_pos</th>\n",
       "      <th>device_type</th>\n",
       "      <th>device_conn_type</th>\n",
       "      <th>C14</th>\n",
       "      <th>C15</th>\n",
       "      <th>C16</th>\n",
       "      <th>C17</th>\n",
       "      <th>C18</th>\n",
       "      <th>C19</th>\n",
       "      <th>C20</th>\n",
       "      <th>C21</th>\n",
       "      <th>month</th>\n",
       "      <th>dayofweek</th>\n",
       "      <th>day</th>\n",
       "      <th>hour</th>\n",
       "      <th>y</th>\n",
       "      <th>site_id_int</th>\n",
       "      <th>site_domain_int</th>\n",
       "      <th>site_category_int</th>\n",
       "      <th>app_id_int</th>\n",
       "      <th>app_domain_int</th>\n",
       "      <th>app_category_int</th>\n",
       "      <th>device_id_int</th>\n",
       "      <th>device_ip_int</th>\n",
       "      <th>device_model_int</th>\n",
       "    </tr>\n",
       "  </thead>\n",
       "  <tbody>\n",
       "    <tr>\n",
       "      <th>0</th>\n",
       "      <td>False</td>\n",
       "      <td>1005</td>\n",
       "      <td>1</td>\n",
       "      <td>1</td>\n",
       "      <td>0</td>\n",
       "      <td>22683</td>\n",
       "      <td>320</td>\n",
       "      <td>50</td>\n",
       "      <td>2528</td>\n",
       "      <td>0</td>\n",
       "      <td>39</td>\n",
       "      <td>100075</td>\n",
       "      <td>221</td>\n",
       "      <td>10</td>\n",
       "      <td>1</td>\n",
       "      <td>28</td>\n",
       "      <td>14</td>\n",
       "      <td>0</td>\n",
       "      <td>3075307694198035365</td>\n",
       "      <td>1861193654337870557</td>\n",
       "      <td>-6915717319441148897</td>\n",
       "      <td>-2988284885443216664</td>\n",
       "      <td>-8311479273601922952</td>\n",
       "      <td>801527903978837448</td>\n",
       "      <td>1941006466887517626</td>\n",
       "      <td>482221966663126695</td>\n",
       "      <td>3074751402855360802</td>\n",
       "    </tr>\n",
       "    <tr>\n",
       "      <th>1</th>\n",
       "      <td>True</td>\n",
       "      <td>1005</td>\n",
       "      <td>1</td>\n",
       "      <td>1</td>\n",
       "      <td>0</td>\n",
       "      <td>17037</td>\n",
       "      <td>320</td>\n",
       "      <td>50</td>\n",
       "      <td>1934</td>\n",
       "      <td>2</td>\n",
       "      <td>39</td>\n",
       "      <td>-1</td>\n",
       "      <td>16</td>\n",
       "      <td>10</td>\n",
       "      <td>2</td>\n",
       "      <td>22</td>\n",
       "      <td>19</td>\n",
       "      <td>1</td>\n",
       "      <td>-5022919056208860677</td>\n",
       "      <td>-594788692819865169</td>\n",
       "      <td>-6915717319441148897</td>\n",
       "      <td>-2988284885443216664</td>\n",
       "      <td>-8311479273601922952</td>\n",
       "      <td>801527903978837448</td>\n",
       "      <td>1941006466887517626</td>\n",
       "      <td>8183603980356555690</td>\n",
       "      <td>-1863636449658482260</td>\n",
       "    </tr>\n",
       "    <tr>\n",
       "      <th>2</th>\n",
       "      <td>False</td>\n",
       "      <td>1005</td>\n",
       "      <td>0</td>\n",
       "      <td>1</td>\n",
       "      <td>0</td>\n",
       "      <td>22155</td>\n",
       "      <td>320</td>\n",
       "      <td>50</td>\n",
       "      <td>2552</td>\n",
       "      <td>3</td>\n",
       "      <td>167</td>\n",
       "      <td>100202</td>\n",
       "      <td>23</td>\n",
       "      <td>10</td>\n",
       "      <td>3</td>\n",
       "      <td>23</td>\n",
       "      <td>18</td>\n",
       "      <td>0</td>\n",
       "      <td>-1678318421740691575</td>\n",
       "      <td>4447774775091070140</td>\n",
       "      <td>-8110213508317798196</td>\n",
       "      <td>-2988284885443216664</td>\n",
       "      <td>-8311479273601922952</td>\n",
       "      <td>801527903978837448</td>\n",
       "      <td>1941006466887517626</td>\n",
       "      <td>-8310259239477355411</td>\n",
       "      <td>-8563262163246727550</td>\n",
       "    </tr>\n",
       "    <tr>\n",
       "      <th>3</th>\n",
       "      <td>False</td>\n",
       "      <td>1002</td>\n",
       "      <td>0</td>\n",
       "      <td>0</td>\n",
       "      <td>0</td>\n",
       "      <td>21591</td>\n",
       "      <td>320</td>\n",
       "      <td>50</td>\n",
       "      <td>2478</td>\n",
       "      <td>3</td>\n",
       "      <td>167</td>\n",
       "      <td>100074</td>\n",
       "      <td>23</td>\n",
       "      <td>10</td>\n",
       "      <td>2</td>\n",
       "      <td>22</td>\n",
       "      <td>19</td>\n",
       "      <td>0</td>\n",
       "      <td>743465088305934166</td>\n",
       "      <td>-4065548505988974522</td>\n",
       "      <td>2038689520308739355</td>\n",
       "      <td>-2988284885443216664</td>\n",
       "      <td>-8311479273601922952</td>\n",
       "      <td>801527903978837448</td>\n",
       "      <td>-3836529412241954253</td>\n",
       "      <td>6470480497189863581</td>\n",
       "      <td>7028077244913644214</td>\n",
       "    </tr>\n",
       "    <tr>\n",
       "      <th>4</th>\n",
       "      <td>True</td>\n",
       "      <td>1005</td>\n",
       "      <td>0</td>\n",
       "      <td>1</td>\n",
       "      <td>0</td>\n",
       "      <td>15708</td>\n",
       "      <td>320</td>\n",
       "      <td>50</td>\n",
       "      <td>1722</td>\n",
       "      <td>0</td>\n",
       "      <td>35</td>\n",
       "      <td>-1</td>\n",
       "      <td>79</td>\n",
       "      <td>10</td>\n",
       "      <td>1</td>\n",
       "      <td>21</td>\n",
       "      <td>8</td>\n",
       "      <td>1</td>\n",
       "      <td>7385191861654641905</td>\n",
       "      <td>-290114488331314108</td>\n",
       "      <td>-8110213508317798196</td>\n",
       "      <td>-2988284885443216664</td>\n",
       "      <td>-8311479273601922952</td>\n",
       "      <td>801527903978837448</td>\n",
       "      <td>1941006466887517626</td>\n",
       "      <td>-2791448053746849245</td>\n",
       "      <td>5575818758528458258</td>\n",
       "    </tr>\n",
       "  </tbody>\n",
       "</table>\n",
       "</div>"
      ],
      "text/plain": [
       "   click    C1  banner_pos  device_type  device_conn_type    C14  C15  C16  \\\n",
       "0  False  1005           1            1                 0  22683  320   50   \n",
       "1   True  1005           1            1                 0  17037  320   50   \n",
       "2  False  1005           0            1                 0  22155  320   50   \n",
       "3  False  1002           0            0                 0  21591  320   50   \n",
       "4   True  1005           0            1                 0  15708  320   50   \n",
       "\n",
       "    C17  C18  C19     C20  C21  month  dayofweek  day  hour  y  \\\n",
       "0  2528    0   39  100075  221     10          1   28    14  0   \n",
       "1  1934    2   39      -1   16     10          2   22    19  1   \n",
       "2  2552    3  167  100202   23     10          3   23    18  0   \n",
       "3  2478    3  167  100074   23     10          2   22    19  0   \n",
       "4  1722    0   35      -1   79     10          1   21     8  1   \n",
       "\n",
       "           site_id_int      site_domain_int    site_category_int  \\\n",
       "0  3075307694198035365  1861193654337870557 -6915717319441148897   \n",
       "1 -5022919056208860677  -594788692819865169 -6915717319441148897   \n",
       "2 -1678318421740691575  4447774775091070140 -8110213508317798196   \n",
       "3   743465088305934166 -4065548505988974522  2038689520308739355   \n",
       "4  7385191861654641905  -290114488331314108 -8110213508317798196   \n",
       "\n",
       "            app_id_int       app_domain_int    app_category_int  \\\n",
       "0 -2988284885443216664 -8311479273601922952  801527903978837448   \n",
       "1 -2988284885443216664 -8311479273601922952  801527903978837448   \n",
       "2 -2988284885443216664 -8311479273601922952  801527903978837448   \n",
       "3 -2988284885443216664 -8311479273601922952  801527903978837448   \n",
       "4 -2988284885443216664 -8311479273601922952  801527903978837448   \n",
       "\n",
       "         device_id_int        device_ip_int     device_model_int  \n",
       "0  1941006466887517626   482221966663126695  3074751402855360802  \n",
       "1  1941006466887517626  8183603980356555690 -1863636449658482260  \n",
       "2  1941006466887517626 -8310259239477355411 -8563262163246727550  \n",
       "3 -3836529412241954253  6470480497189863581  7028077244913644214  \n",
       "4  1941006466887517626 -2791448053746849245  5575818758528458258  "
      ]
     },
     "execution_count": 135,
     "metadata": {},
     "output_type": "execute_result"
    }
   ],
   "source": [
    "# check data\n",
    "train.head()"
   ]
  },
  {
   "cell_type": "code",
   "execution_count": 132,
   "id": "901d9394",
   "metadata": {},
   "outputs": [
    {
     "data": {
      "text/html": [
       "<div>\n",
       "<style scoped>\n",
       "    .dataframe tbody tr th:only-of-type {\n",
       "        vertical-align: middle;\n",
       "    }\n",
       "\n",
       "    .dataframe tbody tr th {\n",
       "        vertical-align: top;\n",
       "    }\n",
       "\n",
       "    .dataframe thead th {\n",
       "        text-align: right;\n",
       "    }\n",
       "</style>\n",
       "<table border=\"1\" class=\"dataframe\">\n",
       "  <thead>\n",
       "    <tr style=\"text-align: right;\">\n",
       "      <th></th>\n",
       "      <th>click</th>\n",
       "      <th>C1</th>\n",
       "      <th>banner_pos</th>\n",
       "      <th>device_type</th>\n",
       "      <th>device_conn_type</th>\n",
       "      <th>C14</th>\n",
       "      <th>C15</th>\n",
       "      <th>C16</th>\n",
       "      <th>C17</th>\n",
       "      <th>C18</th>\n",
       "      <th>C19</th>\n",
       "      <th>C20</th>\n",
       "      <th>C21</th>\n",
       "      <th>month</th>\n",
       "      <th>dayofweek</th>\n",
       "      <th>day</th>\n",
       "      <th>hour</th>\n",
       "      <th>y</th>\n",
       "      <th>site_id_int</th>\n",
       "      <th>site_domain_int</th>\n",
       "      <th>site_category_int</th>\n",
       "      <th>app_id_int</th>\n",
       "      <th>app_domain_int</th>\n",
       "      <th>app_category_int</th>\n",
       "      <th>device_id_int</th>\n",
       "      <th>device_ip_int</th>\n",
       "      <th>device_model_int</th>\n",
       "    </tr>\n",
       "  </thead>\n",
       "  <tbody>\n",
       "    <tr>\n",
       "      <th>0</th>\n",
       "      <td>False</td>\n",
       "      <td>1005</td>\n",
       "      <td>1</td>\n",
       "      <td>1</td>\n",
       "      <td>0</td>\n",
       "      <td>22683</td>\n",
       "      <td>320</td>\n",
       "      <td>50</td>\n",
       "      <td>2528</td>\n",
       "      <td>0</td>\n",
       "      <td>39</td>\n",
       "      <td>100075</td>\n",
       "      <td>221</td>\n",
       "      <td>10</td>\n",
       "      <td>1</td>\n",
       "      <td>28</td>\n",
       "      <td>14</td>\n",
       "      <td>0</td>\n",
       "      <td>3075307694198035365</td>\n",
       "      <td>1861193654337870557</td>\n",
       "      <td>-6915717319441148897</td>\n",
       "      <td>-2988284885443216664</td>\n",
       "      <td>-8311479273601922952</td>\n",
       "      <td>801527903978837448</td>\n",
       "      <td>1941006466887517626</td>\n",
       "      <td>482221966663126695</td>\n",
       "      <td>3074751402855360802</td>\n",
       "    </tr>\n",
       "    <tr>\n",
       "      <th>1</th>\n",
       "      <td>True</td>\n",
       "      <td>1005</td>\n",
       "      <td>1</td>\n",
       "      <td>1</td>\n",
       "      <td>0</td>\n",
       "      <td>17037</td>\n",
       "      <td>320</td>\n",
       "      <td>50</td>\n",
       "      <td>1934</td>\n",
       "      <td>2</td>\n",
       "      <td>39</td>\n",
       "      <td>-1</td>\n",
       "      <td>16</td>\n",
       "      <td>10</td>\n",
       "      <td>2</td>\n",
       "      <td>22</td>\n",
       "      <td>19</td>\n",
       "      <td>1</td>\n",
       "      <td>-5022919056208860677</td>\n",
       "      <td>-594788692819865169</td>\n",
       "      <td>-6915717319441148897</td>\n",
       "      <td>-2988284885443216664</td>\n",
       "      <td>-8311479273601922952</td>\n",
       "      <td>801527903978837448</td>\n",
       "      <td>1941006466887517626</td>\n",
       "      <td>8183603980356555690</td>\n",
       "      <td>-1863636449658482260</td>\n",
       "    </tr>\n",
       "    <tr>\n",
       "      <th>2</th>\n",
       "      <td>False</td>\n",
       "      <td>1005</td>\n",
       "      <td>0</td>\n",
       "      <td>1</td>\n",
       "      <td>0</td>\n",
       "      <td>22155</td>\n",
       "      <td>320</td>\n",
       "      <td>50</td>\n",
       "      <td>2552</td>\n",
       "      <td>3</td>\n",
       "      <td>167</td>\n",
       "      <td>100202</td>\n",
       "      <td>23</td>\n",
       "      <td>10</td>\n",
       "      <td>3</td>\n",
       "      <td>23</td>\n",
       "      <td>18</td>\n",
       "      <td>0</td>\n",
       "      <td>-1678318421740691575</td>\n",
       "      <td>4447774775091070140</td>\n",
       "      <td>-8110213508317798196</td>\n",
       "      <td>-2988284885443216664</td>\n",
       "      <td>-8311479273601922952</td>\n",
       "      <td>801527903978837448</td>\n",
       "      <td>1941006466887517626</td>\n",
       "      <td>-8310259239477355411</td>\n",
       "      <td>-8563262163246727550</td>\n",
       "    </tr>\n",
       "    <tr>\n",
       "      <th>3</th>\n",
       "      <td>False</td>\n",
       "      <td>1002</td>\n",
       "      <td>0</td>\n",
       "      <td>0</td>\n",
       "      <td>0</td>\n",
       "      <td>21591</td>\n",
       "      <td>320</td>\n",
       "      <td>50</td>\n",
       "      <td>2478</td>\n",
       "      <td>3</td>\n",
       "      <td>167</td>\n",
       "      <td>100074</td>\n",
       "      <td>23</td>\n",
       "      <td>10</td>\n",
       "      <td>2</td>\n",
       "      <td>22</td>\n",
       "      <td>19</td>\n",
       "      <td>0</td>\n",
       "      <td>743465088305934166</td>\n",
       "      <td>-4065548505988974522</td>\n",
       "      <td>2038689520308739355</td>\n",
       "      <td>-2988284885443216664</td>\n",
       "      <td>-8311479273601922952</td>\n",
       "      <td>801527903978837448</td>\n",
       "      <td>-3836529412241954253</td>\n",
       "      <td>6470480497189863581</td>\n",
       "      <td>7028077244913644214</td>\n",
       "    </tr>\n",
       "    <tr>\n",
       "      <th>4</th>\n",
       "      <td>True</td>\n",
       "      <td>1005</td>\n",
       "      <td>0</td>\n",
       "      <td>1</td>\n",
       "      <td>0</td>\n",
       "      <td>15708</td>\n",
       "      <td>320</td>\n",
       "      <td>50</td>\n",
       "      <td>1722</td>\n",
       "      <td>0</td>\n",
       "      <td>35</td>\n",
       "      <td>-1</td>\n",
       "      <td>79</td>\n",
       "      <td>10</td>\n",
       "      <td>1</td>\n",
       "      <td>21</td>\n",
       "      <td>8</td>\n",
       "      <td>1</td>\n",
       "      <td>7385191861654641905</td>\n",
       "      <td>-290114488331314108</td>\n",
       "      <td>-8110213508317798196</td>\n",
       "      <td>-2988284885443216664</td>\n",
       "      <td>-8311479273601922952</td>\n",
       "      <td>801527903978837448</td>\n",
       "      <td>1941006466887517626</td>\n",
       "      <td>-2791448053746849245</td>\n",
       "      <td>5575818758528458258</td>\n",
       "    </tr>\n",
       "  </tbody>\n",
       "</table>\n",
       "</div>"
      ],
      "text/plain": [
       "   click    C1  banner_pos  device_type  device_conn_type    C14  C15  C16  \\\n",
       "0  False  1005           1            1                 0  22683  320   50   \n",
       "1   True  1005           1            1                 0  17037  320   50   \n",
       "2  False  1005           0            1                 0  22155  320   50   \n",
       "3  False  1002           0            0                 0  21591  320   50   \n",
       "4   True  1005           0            1                 0  15708  320   50   \n",
       "\n",
       "    C17  C18  C19     C20  C21  month  dayofweek  day  hour  y  \\\n",
       "0  2528    0   39  100075  221     10          1   28    14  0   \n",
       "1  1934    2   39      -1   16     10          2   22    19  1   \n",
       "2  2552    3  167  100202   23     10          3   23    18  0   \n",
       "3  2478    3  167  100074   23     10          2   22    19  0   \n",
       "4  1722    0   35      -1   79     10          1   21     8  1   \n",
       "\n",
       "           site_id_int      site_domain_int    site_category_int  \\\n",
       "0  3075307694198035365  1861193654337870557 -6915717319441148897   \n",
       "1 -5022919056208860677  -594788692819865169 -6915717319441148897   \n",
       "2 -1678318421740691575  4447774775091070140 -8110213508317798196   \n",
       "3   743465088305934166 -4065548505988974522  2038689520308739355   \n",
       "4  7385191861654641905  -290114488331314108 -8110213508317798196   \n",
       "\n",
       "            app_id_int       app_domain_int    app_category_int  \\\n",
       "0 -2988284885443216664 -8311479273601922952  801527903978837448   \n",
       "1 -2988284885443216664 -8311479273601922952  801527903978837448   \n",
       "2 -2988284885443216664 -8311479273601922952  801527903978837448   \n",
       "3 -2988284885443216664 -8311479273601922952  801527903978837448   \n",
       "4 -2988284885443216664 -8311479273601922952  801527903978837448   \n",
       "\n",
       "         device_id_int        device_ip_int     device_model_int  \n",
       "0  1941006466887517626   482221966663126695  3074751402855360802  \n",
       "1  1941006466887517626  8183603980356555690 -1863636449658482260  \n",
       "2  1941006466887517626 -8310259239477355411 -8563262163246727550  \n",
       "3 -3836529412241954253  6470480497189863581  7028077244913644214  \n",
       "4  1941006466887517626 -2791448053746849245  5575818758528458258  "
      ]
     },
     "execution_count": 132,
     "metadata": {},
     "output_type": "execute_result"
    }
   ],
   "source": [
    "# to show all columns in dataframe\n",
    "pd.set_option('display.max_columns', None)\n",
    "train.head()"
   ]
  },
  {
   "cell_type": "markdown",
   "id": "0b639847",
   "metadata": {},
   "source": [
    "# Performing logistics regression\n",
    "# It is used to find the probability of success and failure when the dependent variable is binary. It is very much easier to set up and train"
   ]
  },
  {
   "cell_type": "code",
   "execution_count": 152,
   "id": "c8432c81",
   "metadata": {},
   "outputs": [],
   "source": [
    "# Split the data into a training and test set. \n",
    "# All columns are features execpt for y\n",
    "X = train.loc[:, ['click', 'C1', 'banner_pos', 'site_id_int', 'site_domain_int', 'site_category_int',\n",
    "       'app_id_int', 'app_domain_int', 'app_category_int', 'device_id_int',\n",
    "       'device_ip_int', 'device_model_int', 'device_type', 'device_conn_type',\n",
    "       'C14', 'C15', 'C16', 'C17','C18','C19','C20','C21',\n",
    "       'month', 'dayofweek', 'day', 'hour']]\n"
   ]
  },
  {
   "cell_type": "code",
   "execution_count": 138,
   "id": "de86645b",
   "metadata": {},
   "outputs": [],
   "source": [
    "# y is the target variable\n",
    "y = train.loc[:, ['y']]"
   ]
  },
  {
   "cell_type": "code",
   "execution_count": 139,
   "id": "c0153645",
   "metadata": {},
   "outputs": [
    {
     "name": "stdout",
     "output_type": "stream",
     "text": [
      "(69999, 26)\n",
      "(69999, 1)\n",
      "(30000, 26)\n",
      "(30000, 1)\n"
     ]
    }
   ],
   "source": [
    "#import a prebuilt function to split the data\n",
    "from sklearn.model_selection import train_test_split\n",
    "\n",
    "X_train, X_test, y_train, y_test = train_test_split(X, y, test_size=0.3, random_state=0)\n",
    "print(X_train.shape)\n",
    "print(y_train.shape)\n",
    "print(X_test.shape)\n",
    "print(y_test.shape)"
   ]
  },
  {
   "cell_type": "code",
   "execution_count": 142,
   "id": "e42abd1c",
   "metadata": {},
   "outputs": [
    {
     "data": {
      "text/html": [
       "<style>#sk-container-id-2 {color: black;background-color: white;}#sk-container-id-2 pre{padding: 0;}#sk-container-id-2 div.sk-toggleable {background-color: white;}#sk-container-id-2 label.sk-toggleable__label {cursor: pointer;display: block;width: 100%;margin-bottom: 0;padding: 0.3em;box-sizing: border-box;text-align: center;}#sk-container-id-2 label.sk-toggleable__label-arrow:before {content: \"▸\";float: left;margin-right: 0.25em;color: #696969;}#sk-container-id-2 label.sk-toggleable__label-arrow:hover:before {color: black;}#sk-container-id-2 div.sk-estimator:hover label.sk-toggleable__label-arrow:before {color: black;}#sk-container-id-2 div.sk-toggleable__content {max-height: 0;max-width: 0;overflow: hidden;text-align: left;background-color: #f0f8ff;}#sk-container-id-2 div.sk-toggleable__content pre {margin: 0.2em;color: black;border-radius: 0.25em;background-color: #f0f8ff;}#sk-container-id-2 input.sk-toggleable__control:checked~div.sk-toggleable__content {max-height: 200px;max-width: 100%;overflow: auto;}#sk-container-id-2 input.sk-toggleable__control:checked~label.sk-toggleable__label-arrow:before {content: \"▾\";}#sk-container-id-2 div.sk-estimator input.sk-toggleable__control:checked~label.sk-toggleable__label {background-color: #d4ebff;}#sk-container-id-2 div.sk-label input.sk-toggleable__control:checked~label.sk-toggleable__label {background-color: #d4ebff;}#sk-container-id-2 input.sk-hidden--visually {border: 0;clip: rect(1px 1px 1px 1px);clip: rect(1px, 1px, 1px, 1px);height: 1px;margin: -1px;overflow: hidden;padding: 0;position: absolute;width: 1px;}#sk-container-id-2 div.sk-estimator {font-family: monospace;background-color: #f0f8ff;border: 1px dotted black;border-radius: 0.25em;box-sizing: border-box;margin-bottom: 0.5em;}#sk-container-id-2 div.sk-estimator:hover {background-color: #d4ebff;}#sk-container-id-2 div.sk-parallel-item::after {content: \"\";width: 100%;border-bottom: 1px solid gray;flex-grow: 1;}#sk-container-id-2 div.sk-label:hover label.sk-toggleable__label {background-color: #d4ebff;}#sk-container-id-2 div.sk-serial::before {content: \"\";position: absolute;border-left: 1px solid gray;box-sizing: border-box;top: 0;bottom: 0;left: 50%;z-index: 0;}#sk-container-id-2 div.sk-serial {display: flex;flex-direction: column;align-items: center;background-color: white;padding-right: 0.2em;padding-left: 0.2em;position: relative;}#sk-container-id-2 div.sk-item {position: relative;z-index: 1;}#sk-container-id-2 div.sk-parallel {display: flex;align-items: stretch;justify-content: center;background-color: white;position: relative;}#sk-container-id-2 div.sk-item::before, #sk-container-id-2 div.sk-parallel-item::before {content: \"\";position: absolute;border-left: 1px solid gray;box-sizing: border-box;top: 0;bottom: 0;left: 50%;z-index: -1;}#sk-container-id-2 div.sk-parallel-item {display: flex;flex-direction: column;z-index: 1;position: relative;background-color: white;}#sk-container-id-2 div.sk-parallel-item:first-child::after {align-self: flex-end;width: 50%;}#sk-container-id-2 div.sk-parallel-item:last-child::after {align-self: flex-start;width: 50%;}#sk-container-id-2 div.sk-parallel-item:only-child::after {width: 0;}#sk-container-id-2 div.sk-dashed-wrapped {border: 1px dashed gray;margin: 0 0.4em 0.5em 0.4em;box-sizing: border-box;padding-bottom: 0.4em;background-color: white;}#sk-container-id-2 div.sk-label label {font-family: monospace;font-weight: bold;display: inline-block;line-height: 1.2em;}#sk-container-id-2 div.sk-label-container {text-align: center;}#sk-container-id-2 div.sk-container {/* jupyter's `normalize.less` sets `[hidden] { display: none; }` but bootstrap.min.css set `[hidden] { display: none !important; }` so we also need the `!important` here to be able to override the default hidden behavior on the sphinx rendered scikit-learn.org. See: https://github.com/scikit-learn/scikit-learn/issues/21755 */display: inline-block !important;position: relative;}#sk-container-id-2 div.sk-text-repr-fallback {display: none;}</style><div id=\"sk-container-id-2\" class=\"sk-top-container\"><div class=\"sk-text-repr-fallback\"><pre>LogisticRegression()</pre><b>In a Jupyter environment, please rerun this cell to show the HTML representation or trust the notebook. <br />On GitHub, the HTML representation is unable to render, please try loading this page with nbviewer.org.</b></div><div class=\"sk-container\" hidden><div class=\"sk-item\"><div class=\"sk-estimator sk-toggleable\"><input class=\"sk-toggleable__control sk-hidden--visually\" id=\"sk-estimator-id-2\" type=\"checkbox\" checked><label for=\"sk-estimator-id-2\" class=\"sk-toggleable__label sk-toggleable__label-arrow\">LogisticRegression</label><div class=\"sk-toggleable__content\"><pre>LogisticRegression()</pre></div></div></div></div></div>"
      ],
      "text/plain": [
       "LogisticRegression()"
      ]
     },
     "execution_count": 142,
     "metadata": {},
     "output_type": "execute_result"
    }
   ],
   "source": [
    "# Fit your training data to a Logistic Regression Model\n",
    "from sklearn.linear_model import LogisticRegression\n",
    "\n",
    "# diclare the logistic model\n",
    "model = LogisticRegression()\n",
    "\n",
    "# train the model on the data\n",
    "model.fit(X_train, y_train)"
   ]
  },
  {
   "cell_type": "code",
   "execution_count": 146,
   "id": "1c6f43c8",
   "metadata": {},
   "outputs": [
    {
     "name": "stdout",
     "output_type": "stream",
     "text": [
      "0.8293333333333334\n",
      "[[24880     0]\n",
      " [ 5120     0]]\n"
     ]
    }
   ],
   "source": [
    "# Use the testing data to make predictions and determine the accuracy of your predictions.\n",
    "y_pred = model.predict(X_test)\n",
    "\n",
    "from sklearn import metrics\n",
    "from sklearn.metrics import confusion_matrix\n",
    "print(metrics.accuracy_score(y_test, y_pred))\n",
    "\n",
    "# print confusion matrix\n",
    "cnf_matrix = metrics.confusion_matrix(y_test, y_pred)\n",
    "print(cnf_matrix)"
   ]
  },
  {
   "cell_type": "code",
   "execution_count": 147,
   "id": "2cba56a6",
   "metadata": {},
   "outputs": [
    {
     "data": {
      "text/html": [
       "<style>#sk-container-id-3 {color: black;background-color: white;}#sk-container-id-3 pre{padding: 0;}#sk-container-id-3 div.sk-toggleable {background-color: white;}#sk-container-id-3 label.sk-toggleable__label {cursor: pointer;display: block;width: 100%;margin-bottom: 0;padding: 0.3em;box-sizing: border-box;text-align: center;}#sk-container-id-3 label.sk-toggleable__label-arrow:before {content: \"▸\";float: left;margin-right: 0.25em;color: #696969;}#sk-container-id-3 label.sk-toggleable__label-arrow:hover:before {color: black;}#sk-container-id-3 div.sk-estimator:hover label.sk-toggleable__label-arrow:before {color: black;}#sk-container-id-3 div.sk-toggleable__content {max-height: 0;max-width: 0;overflow: hidden;text-align: left;background-color: #f0f8ff;}#sk-container-id-3 div.sk-toggleable__content pre {margin: 0.2em;color: black;border-radius: 0.25em;background-color: #f0f8ff;}#sk-container-id-3 input.sk-toggleable__control:checked~div.sk-toggleable__content {max-height: 200px;max-width: 100%;overflow: auto;}#sk-container-id-3 input.sk-toggleable__control:checked~label.sk-toggleable__label-arrow:before {content: \"▾\";}#sk-container-id-3 div.sk-estimator input.sk-toggleable__control:checked~label.sk-toggleable__label {background-color: #d4ebff;}#sk-container-id-3 div.sk-label input.sk-toggleable__control:checked~label.sk-toggleable__label {background-color: #d4ebff;}#sk-container-id-3 input.sk-hidden--visually {border: 0;clip: rect(1px 1px 1px 1px);clip: rect(1px, 1px, 1px, 1px);height: 1px;margin: -1px;overflow: hidden;padding: 0;position: absolute;width: 1px;}#sk-container-id-3 div.sk-estimator {font-family: monospace;background-color: #f0f8ff;border: 1px dotted black;border-radius: 0.25em;box-sizing: border-box;margin-bottom: 0.5em;}#sk-container-id-3 div.sk-estimator:hover {background-color: #d4ebff;}#sk-container-id-3 div.sk-parallel-item::after {content: \"\";width: 100%;border-bottom: 1px solid gray;flex-grow: 1;}#sk-container-id-3 div.sk-label:hover label.sk-toggleable__label {background-color: #d4ebff;}#sk-container-id-3 div.sk-serial::before {content: \"\";position: absolute;border-left: 1px solid gray;box-sizing: border-box;top: 0;bottom: 0;left: 50%;z-index: 0;}#sk-container-id-3 div.sk-serial {display: flex;flex-direction: column;align-items: center;background-color: white;padding-right: 0.2em;padding-left: 0.2em;position: relative;}#sk-container-id-3 div.sk-item {position: relative;z-index: 1;}#sk-container-id-3 div.sk-parallel {display: flex;align-items: stretch;justify-content: center;background-color: white;position: relative;}#sk-container-id-3 div.sk-item::before, #sk-container-id-3 div.sk-parallel-item::before {content: \"\";position: absolute;border-left: 1px solid gray;box-sizing: border-box;top: 0;bottom: 0;left: 50%;z-index: -1;}#sk-container-id-3 div.sk-parallel-item {display: flex;flex-direction: column;z-index: 1;position: relative;background-color: white;}#sk-container-id-3 div.sk-parallel-item:first-child::after {align-self: flex-end;width: 50%;}#sk-container-id-3 div.sk-parallel-item:last-child::after {align-self: flex-start;width: 50%;}#sk-container-id-3 div.sk-parallel-item:only-child::after {width: 0;}#sk-container-id-3 div.sk-dashed-wrapped {border: 1px dashed gray;margin: 0 0.4em 0.5em 0.4em;box-sizing: border-box;padding-bottom: 0.4em;background-color: white;}#sk-container-id-3 div.sk-label label {font-family: monospace;font-weight: bold;display: inline-block;line-height: 1.2em;}#sk-container-id-3 div.sk-label-container {text-align: center;}#sk-container-id-3 div.sk-container {/* jupyter's `normalize.less` sets `[hidden] { display: none; }` but bootstrap.min.css set `[hidden] { display: none !important; }` so we also need the `!important` here to be able to override the default hidden behavior on the sphinx rendered scikit-learn.org. See: https://github.com/scikit-learn/scikit-learn/issues/21755 */display: inline-block !important;position: relative;}#sk-container-id-3 div.sk-text-repr-fallback {display: none;}</style><div id=\"sk-container-id-3\" class=\"sk-top-container\"><div class=\"sk-text-repr-fallback\"><pre>DummyClassifier(strategy=&#x27;most_frequent&#x27;)</pre><b>In a Jupyter environment, please rerun this cell to show the HTML representation or trust the notebook. <br />On GitHub, the HTML representation is unable to render, please try loading this page with nbviewer.org.</b></div><div class=\"sk-container\" hidden><div class=\"sk-item\"><div class=\"sk-estimator sk-toggleable\"><input class=\"sk-toggleable__control sk-hidden--visually\" id=\"sk-estimator-id-3\" type=\"checkbox\" checked><label for=\"sk-estimator-id-3\" class=\"sk-toggleable__label sk-toggleable__label-arrow\">DummyClassifier</label><div class=\"sk-toggleable__content\"><pre>DummyClassifier(strategy=&#x27;most_frequent&#x27;)</pre></div></div></div></div></div>"
      ],
      "text/plain": [
       "DummyClassifier(strategy='most_frequent')"
      ]
     },
     "execution_count": 147,
     "metadata": {},
     "output_type": "execute_result"
    }
   ],
   "source": [
    "# Calculating a base line for comparing the model. \n",
    "from sklearn.dummy import DummyClassifier\n",
    "dummy_clf = DummyClassifier(strategy=\"most_frequent\")\n",
    "dummy_clf.fit(X_train, y_train)"
   ]
  },
  {
   "cell_type": "code",
   "execution_count": 149,
   "id": "d05ea448",
   "metadata": {},
   "outputs": [
    {
     "name": "stdout",
     "output_type": "stream",
     "text": [
      "[[24880     0]\n",
      " [ 5120     0]]\n"
     ]
    }
   ],
   "source": [
    "y_pred = dummy_clf.predict(X_test)\n",
    "\n",
    "# print confusion matrix\n",
    "cnf_matrix = metrics.confusion_matrix(y_test, y_pred)\n",
    "print(cnf_matrix)"
   ]
  },
  {
   "cell_type": "code",
   "execution_count": 150,
   "id": "a86df0d0",
   "metadata": {},
   "outputs": [
    {
     "data": {
      "text/plain": [
       "0.5"
      ]
     },
     "execution_count": 150,
     "metadata": {},
     "output_type": "execute_result"
    }
   ],
   "source": [
    "# plot ROC score\n",
    "from sklearn.metrics import roc_auc_score\n",
    "roc_auc_score(y_test, model.predict_proba(X_test)[:, 1])"
   ]
  },
  {
   "cell_type": "markdown",
   "id": "03a1cc49",
   "metadata": {},
   "source": [
    "# Performing Random Forest\n",
    "# Used due to its readability and interpretability. It has less chances of overfitting"
   ]
  },
  {
   "cell_type": "code",
   "execution_count": 153,
   "id": "76b2bb6c",
   "metadata": {},
   "outputs": [
    {
     "name": "stdout",
     "output_type": "stream",
     "text": [
      "Baseline Accuracy =  0.8293333333333334\n"
     ]
    }
   ],
   "source": [
    "dummy_classifier = DummyClassifier(strategy='most_frequent')\n",
    "dummy_classifier.fit(X_train,y_train)\n",
    "baseline_acc = dummy_classifier.score(X_test,y_test)\n",
    "\n",
    "\n",
    "### For verifying answer:\n",
    "print(\"Baseline Accuracy = \", baseline_acc)"
   ]
  },
  {
   "cell_type": "code",
   "execution_count": 154,
   "id": "b541f7a1",
   "metadata": {},
   "outputs": [
    {
     "name": "stdout",
     "output_type": "stream",
     "text": [
      "Number of rows should be the same:\n",
      "Number of rows in X_train:   69999\n",
      "Number of rows in bootstrap: 99999\n",
      "       click    C1  banner_pos          site_id_int      site_domain_int  \\\n",
      "41897  False  1005           1  7948341220196904998  -656785535332648868   \n",
      "79717  False  1005           0  6944502980350002282 -2407596579750517917   \n",
      "6403   False  1005           0  6944502980350002282 -2407596579750517917   \n",
      "87298  False  1005           0  6944502980350002282 -2407596579750517917   \n",
      "41651  False  1002           0  4774874318040680060 -3208525941202133479   \n",
      "...      ...   ...         ...                  ...                  ...   \n",
      "28441  False  1005           1   110812941260505783  3169282257702676643   \n",
      "43882  False  1005           0  7385191861654641905  -290114488331314108   \n",
      "12232  False  1005           0  6944502980350002282 -2407596579750517917   \n",
      "48131  False  1002           0  2218740301531332533  -172800675871708821   \n",
      "25504  False  1005           0  6944502980350002282 -2407596579750517917   \n",
      "\n",
      "         site_category_int           app_id_int       app_domain_int  \\\n",
      "41897 -6915717319441148897 -2988284885443216664 -8311479273601922952   \n",
      "79717  2038689520308739355 -6868708122961491327  8083582070243610980   \n",
      "6403   2038689520308739355 -3863806012725541106  4819711774638863247   \n",
      "87298  2038689520308739355 -1785376912888284599  -468218433250444795   \n",
      "41651  2038689520308739355 -2988284885443216664 -8311479273601922952   \n",
      "...                    ...                  ...                  ...   \n",
      "28441 -6915717319441148897 -2988284885443216664 -8311479273601922952   \n",
      "43882 -8110213508317798196 -2988284885443216664 -8311479273601922952   \n",
      "12232  2038689520308739355  1078188828167682705  7488240714756243866   \n",
      "48131  2038689520308739355 -2988284885443216664 -8311479273601922952   \n",
      "25504  2038689520308739355 -5816780637548983806  7506583378538468873   \n",
      "\n",
      "          app_category_int        device_id_int        device_ip_int  \\\n",
      "41897   801527903978837448  1941006466887517626  6988468331308283043   \n",
      "79717 -8886394494885498046  1941006466887517626 -7642316444679637035   \n",
      "6403  -8886394494885498046  1941006466887517626 -8659545231898724539   \n",
      "87298 -8886394494885498046  1941006466887517626 -3636238074579753710   \n",
      "41651   801527903978837448  3900051498877001397 -8406132183372737477   \n",
      "...                    ...                  ...                  ...   \n",
      "28441   801527903978837448  1941006466887517626  6953477355058406546   \n",
      "43882   801527903978837448  1941006466887517626  7229142757151425156   \n",
      "12232 -8886394494885498046 -6128564063082309394 -4898059853916640918   \n",
      "48131   801527903978837448  -308106597045787532 -3273004464686106655   \n",
      "25504 -8886394494885498046  1941006466887517626  2497722339956114128   \n",
      "\n",
      "          device_model_int  device_type  device_conn_type    C14  C15  C16  \\\n",
      "41897  2759811236469238414            1                 0  17893  320   50   \n",
      "79717     -555739088408863            1                 0  21893  320   50   \n",
      "6403  -6982820362519572333            1                 0  23143  320   50   \n",
      "87298  4915859720365200253            1                 0  23804  320   50   \n",
      "41651  -268874731010482668            0                 0  22701  320   50   \n",
      "...                    ...          ...               ...    ...  ...  ...   \n",
      "28441  5827442307429345339            1                 0  21876  320   50   \n",
      "43882 -3356182026138181808            1                 0  21853  216   36   \n",
      "12232 -4726912802090180048            1                 0  21772  300   50   \n",
      "48131 -2105926877677328429            0                 0  19665  320   50   \n",
      "25504  5703963571909184419            1                 3  21189  320   50   \n",
      "\n",
      "        C17  C18  C19     C20  C21  month  dayofweek  day  hour  \n",
      "41897  2039    2   39      -1   32     10          2   29     6  \n",
      "79717  2526    0  167      -1  221     10          1   28    18  \n",
      "6403   2665    0   34      -1  221     10          1   28     9  \n",
      "87298  2726    3  803  100064  229     10          3   30     5  \n",
      "41651  2624    0   35  100075  221     10          0   27    16  \n",
      "...     ...  ...  ...     ...  ...    ...        ...  ...   ...  \n",
      "28441  2526    0   35  100081  221     10          2   22     9  \n",
      "43882  2524    0   35      -1  221     10          2   22    19  \n",
      "12232  2507    0   35  100202  157     10          2   22     9  \n",
      "48131  2253    2  303      -1   52     10          1   28    14  \n",
      "25504  2424    1  161  100192   71     10          1   28    17  \n",
      "\n",
      "[99999 rows x 26 columns]\n"
     ]
    }
   ],
   "source": [
    "def create_bootstrap_sample(df):\n",
    "    return df.sample(n= train.shape[0], replace = True)\n",
    "\n",
    "bootstrap_sample = create_bootstrap_sample(X_train)\n",
    "\n",
    "print('Number of rows should be the same:')\n",
    "print('Number of rows in X_train:  ', X_train.shape[0])\n",
    "print('Number of rows in bootstrap:', create_bootstrap_sample(X_train).shape[0])\n",
    "\n",
    "print(bootstrap_sample)"
   ]
  },
  {
   "cell_type": "code",
   "execution_count": 155,
   "id": "61aa385b",
   "metadata": {},
   "outputs": [],
   "source": [
    "from sklearn.metrics import (\n",
    "    classification_report,\n",
    "    recall_score,\n",
    "    precision_score,\n",
    "    accuracy_score\n",
    ")\n",
    "\n",
    "from sklearn.ensemble import RandomForestClassifier\n",
    "model_rf = RandomForestClassifier(n_estimators=10, max_features=7, random_state=42)\n",
    "model_rf.fit(X_train, y_train)\n",
    "predict_rf = model_rf.predict(X_test)\n",
    "recall_rf = recall_score(y_test, predict_rf)\n",
    "precision_rf = precision_score(y_test, predict_rf)"
   ]
  },
  {
   "cell_type": "code",
   "execution_count": 156,
   "id": "5a32bb03",
   "metadata": {},
   "outputs": [
    {
     "name": "stdout",
     "output_type": "stream",
     "text": [
      "Classification Report:\n",
      "\n",
      "              precision    recall  f1-score   support\n",
      "\n",
      "           0       1.00      1.00      1.00     24880\n",
      "           1       1.00      1.00      1.00      5120\n",
      "\n",
      "    accuracy                           1.00     30000\n",
      "   macro avg       1.00      1.00      1.00     30000\n",
      "weighted avg       1.00      1.00      1.00     30000\n",
      "\n"
     ]
    }
   ],
   "source": [
    "from sklearn.metrics import (\n",
    "    classification_report,\n",
    "    recall_score,\n",
    "    precision_score,\n",
    "    accuracy_score\n",
    ")\n",
    "print('Classification Report:\\n')\n",
    "print(classification_report(y_test, predict_rf))"
   ]
  },
  {
   "cell_type": "code",
   "execution_count": 170,
   "id": "20ff1c6c",
   "metadata": {},
   "outputs": [],
   "source": [
    "def print_recall_scores(ensemble, feats, true_labels):\n",
    "    '''\n",
    "    Prints the recall scores for base estimators in a sklearn ensemble model.\n",
    "    '''\n",
    "    scores = []\n",
    "    for model_idx, model in enumerate(ensemble.estimators_):\n",
    "        if model_idx == 0:\n",
    "            print('='*40)\n",
    "        preds = model.predict(feats)\n",
    "        scores.append(recall_score(true_labels, preds))\n",
    "        model_recall = n.round(recall_score(true_labels, preds), 5)\n",
    "        print(f'Recall for Base Model {model_idx+1}:\\t', model_recall)\n",
    "        if model_idx < (len(ensemble.estimators_) - 1):\n",
    "            print('-'*40)\n",
    "        else:\n",
    "            print('='*40)\n",
    "    ensemble_preds = ensemble.predict(feats)\n",
    "    print(\"Mean Recall Score:\\t\\t\", n.round(n.array(scores).mean(), 5))\n",
    "    print(\"Std Deviation:\\t\\t\\t\", n.round(n.array(scores).std(), 5))\n",
    "    print(\"Range:\\t\\t\\t\\t\", n.round(n.array(scores).ptp(), 5))\n",
    "    print(f'Overall Recall for model:\\t {n.round(recall_score(y_test, ensemble_preds), 5)}')"
   ]
  },
  {
   "cell_type": "code",
   "execution_count": 171,
   "id": "97011832",
   "metadata": {},
   "outputs": [],
   "source": [
    "def print_recall_scores(ensemble, feats, true_labels):\n",
    "    '''\n",
    "    Prints the recall scores for base estimators in a sklearn ensemble model.\n",
    "    '''\n",
    "    scores = []\n",
    "    for model_idx, model in enumerate(ensemble.estimators_):\n",
    "        if model_idx == 0:\n",
    "            print('='*40)\n",
    "        preds = model.predict(feats)\n",
    "        scores.append(recall_score(true_labels, preds))\n",
    "        model_recall = n.round(recall_score(true_labels, preds), 5)\n",
    "        print(f'Recall for Base Model {model_idx+1}:\\t', model_recall)\n",
    "        if model_idx < (len(ensemble.estimators_) - 1):\n",
    "            print('-'*40)\n",
    "        else:\n",
    "            print('='*40)\n",
    "    ensemble_preds = ensemble.predict(feats)\n",
    "    print(\"Mean Recall Score:\\t\\t\", n.round(n.array(scores).mean(), 5))\n",
    "    print(\"Std Deviation:\\t\\t\\t\", n.round(n.array(scores).std(), 5))\n",
    "    print(\"Range:\\t\\t\\t\\t\", n.round(n.array(scores).ptp(), 5))\n",
    "    print(f'Overall Recall for model:\\t {n.round(recall_score(y_test, ensemble_preds), 5)}')"
   ]
  },
  {
   "cell_type": "code",
   "execution_count": 172,
   "id": "d0572244",
   "metadata": {},
   "outputs": [
    {
     "name": "stdout",
     "output_type": "stream",
     "text": [
      "========================================\n",
      "Recall for Base Model 1:\t 0.9959\n",
      "----------------------------------------\n",
      "Recall for Base Model 2:\t 0.97793\n",
      "----------------------------------------\n",
      "Recall for Base Model 3:\t 0.99062\n",
      "----------------------------------------\n",
      "Recall for Base Model 4:\t 0.98926\n",
      "----------------------------------------\n",
      "Recall for Base Model 5:\t 0.99023\n",
      "----------------------------------------\n",
      "Recall for Base Model 6:\t 0.98906\n",
      "----------------------------------------\n",
      "Recall for Base Model 7:\t 0.98105\n",
      "----------------------------------------\n",
      "Recall for Base Model 8:\t 0.99609\n",
      "----------------------------------------\n",
      "Recall for Base Model 9:\t 1.0\n",
      "----------------------------------------\n",
      "Recall for Base Model 10:\t 0.98535\n",
      "========================================\n",
      "Mean Recall Score:\t\t 0.98955\n",
      "Std Deviation:\t\t\t 0.00647\n",
      "Range:\t\t\t\t 0.02207\n",
      "Overall Recall for model:\t 1.0\n"
     ]
    }
   ],
   "source": [
    "print_recall_scores(model_rf, X_test, y_test)"
   ]
  },
  {
   "cell_type": "code",
   "execution_count": 173,
   "id": "e0ad8c7f",
   "metadata": {},
   "outputs": [
    {
     "name": "stdout",
     "output_type": "stream",
     "text": [
      "OOB Score:\t\t\t 1.0\n",
      "Testing Accuracy:\t\t 1.0\n",
      "Acc. Difference:\t\t 0.0\n"
     ]
    }
   ],
   "source": [
    "from sklearn.ensemble import RandomForestClassifier\n",
    "\n",
    "model_rf_oob = RandomForestClassifier(n_estimators=100, max_features=7, oob_score=True, random_state=42).fit(X_train, y_train)\n",
    "oob_score = round(model_rf_oob.oob_score_,4)\n",
    "acc_oob = round(accuracy_score(y_test, model_rf_oob.predict(X_test)),4)\n",
    "diff_oob = round(abs(oob_score - acc_oob),4)\n",
    "\n",
    "print('OOB Score:\\t\\t\\t', oob_score)\n",
    "print('Testing Accuracy:\\t\\t', acc_oob)\n",
    "print('Acc. Difference:\\t\\t', diff_oob)"
   ]
  },
  {
   "cell_type": "code",
   "execution_count": 174,
   "id": "0a4d3fc1",
   "metadata": {},
   "outputs": [
    {
     "name": "stdout",
     "output_type": "stream",
     "text": [
      "<bound method DataFrame.nlargest of              features  importance\n",
      "0               click    0.938201\n",
      "1                  C1    0.000717\n",
      "2          banner_pos    0.000698\n",
      "3         site_id_int    0.003501\n",
      "4     site_domain_int    0.006081\n",
      "5   site_category_int    0.003268\n",
      "6          app_id_int    0.001332\n",
      "7      app_domain_int    0.000619\n",
      "8    app_category_int    0.003522\n",
      "9       device_id_int    0.000801\n",
      "10      device_ip_int    0.003506\n",
      "11   device_model_int    0.003043\n",
      "12        device_type    0.000891\n",
      "13   device_conn_type    0.000350\n",
      "14                C14    0.003576\n",
      "15                C15    0.004324\n",
      "16                C16    0.008605\n",
      "17                C17    0.001558\n",
      "18                C18    0.001769\n",
      "19                C19    0.002341\n",
      "20                C20    0.002215\n",
      "21                C21    0.004575\n",
      "22              month    0.000000\n",
      "23          dayofweek    0.000725\n",
      "24                day    0.001298\n",
      "25               hour    0.002484>\n"
     ]
    }
   ],
   "source": [
    "#Feature Importance. We notice that click has the highest feature importance\n",
    "feature_importances = model_rf.feature_importances_\n",
    "features = X_train.columns\n",
    "df = pd.DataFrame({'features': features, 'importance': feature_importances}).nlargest\n",
    "print(df)"
   ]
  },
  {
   "attachments": {},
   "cell_type": "markdown",
   "id": "5fbe07e7",
   "metadata": {},
   "source": [
    "# Performing boosting\n",
    "# It reduces variance and bias. Algorithm work on combining weak learners into strong learners"
   ]
  },
  {
   "cell_type": "code",
   "execution_count": 175,
   "id": "e14134cb",
   "metadata": {},
   "outputs": [
    {
     "name": "stdout",
     "output_type": "stream",
     "text": [
      "Number of rows should be the same:\n",
      "Number of rows in X_train:   69999\n",
      "Number of rows in bootstrap: 69999\n",
      "       click    C1  banner_pos          site_id_int      site_domain_int  \\\n",
      "60093  False  1005           1 -5022919056208860677  -594788692819865169   \n",
      "87419  False  1005           0 -8060275734124847045  4089656489094689671   \n",
      "1233   False  1005           0  9147767515322266636  9128701133645079132   \n",
      "38678  False  1005           0  7385191861654641905  -290114488331314108   \n",
      "17479  False  1005           0  6944502980350002282 -2407596579750517917   \n",
      "...      ...   ...         ...                  ...                  ...   \n",
      "81739  False  1005           0 -7342798662536520052  6101941153415971416   \n",
      "66877  False  1005           0  8386248549943018603  7880087685972974451   \n",
      "35884  False  1002           0  8518863170437739514 -9162785579896875582   \n",
      "12394  False  1005           0  6944502980350002282 -2407596579750517917   \n",
      "60738  False  1005           0  7385191861654641905  -290114488331314108   \n",
      "\n",
      "         site_category_int           app_id_int       app_domain_int  \\\n",
      "60093 -6915717319441148897 -2988284885443216664 -8311479273601922952   \n",
      "87419 -5450315866020711718 -2988284885443216664 -8311479273601922952   \n",
      "1233  -6915717319441148897 -2988284885443216664 -8311479273601922952   \n",
      "38678 -8110213508317798196 -2988284885443216664 -8311479273601922952   \n",
      "17479  2038689520308739355  1106371890319751507 -2159511233213987537   \n",
      "...                    ...                  ...                  ...   \n",
      "81739 -6915717319441148897 -2988284885443216664 -8311479273601922952   \n",
      "66877 -5450315866020711718 -2988284885443216664 -8311479273601922952   \n",
      "35884  2038689520308739355 -2988284885443216664 -8311479273601922952   \n",
      "12394  2038689520308739355  7442361412443612226 -5820696071141572466   \n",
      "60738 -8110213508317798196 -2988284885443216664 -8311479273601922952   \n",
      "\n",
      "          app_category_int        device_id_int        device_ip_int  \\\n",
      "60093   801527903978837448  1941006466887517626  7148733729930734681   \n",
      "87419   801527903978837448  1941006466887517626 -4983783215892781526   \n",
      "1233    801527903978837448  1941006466887517626  8413988440280577383   \n",
      "38678   801527903978837448  1941006466887517626  2951599382558720367   \n",
      "17479 -8886394494885498046  1941006466887517626  5580505913013388298   \n",
      "...                    ...                  ...                  ...   \n",
      "81739   801527903978837448  1941006466887517626 -1028675579245484970   \n",
      "66877   801527903978837448  1941006466887517626  6042211182195355470   \n",
      "35884   801527903978837448  7972462643973770819  3303957643899162541   \n",
      "12394 -8886394494885498046  1941006466887517626  2456394341755417936   \n",
      "60738   801527903978837448  1941006466887517626  8761811321499888174   \n",
      "\n",
      "          device_model_int  device_type  device_conn_type    C14  C15  C16  \\\n",
      "60093  1423886077438905470            1                 0   4687  320   50   \n",
      "87419 -2212945444004633351            1                 0  20345  300  250   \n",
      "1233  -6520666302682800848            1                 0  20005  320   50   \n",
      "38678 -2326949878074629059            1                 2  15703  320   50   \n",
      "17479  7818212938948062525            1                 0  21207  320   50   \n",
      "...                    ...          ...               ...    ...  ...  ...   \n",
      "81739 -2478173156621983770            1                 0  21770  320   50   \n",
      "66877  1279114968977200193            1                 0  20366  320   50   \n",
      "35884 -4106053263683829295            0                 0   6563  320   50   \n",
      "12394 -7463272924372011718            1                 0  23866  320   50   \n",
      "60738 -8748688050209658563            1                 0  22261  320   50   \n",
      "\n",
      "        C17  C18  C19     C20  C21  month  dayofweek  day  hour  \n",
      "60093   423    2   39  100148   32     10          4   24    18  \n",
      "87419  2331    2   39      -1   23     10          5   25     4  \n",
      "1233   2283    0  163      -1   95     10          2   29     5  \n",
      "38678  1722    0   35      -1   79     10          0   27     8  \n",
      "17479  2429    3  171  100133   61     10          6   26     9  \n",
      "...     ...  ...  ...     ...  ...    ...        ...  ...   ...  \n",
      "81739  2507    0   35      -1  157     10          2   22    12  \n",
      "66877  2333    0   39      -1  157     10          1   21     0  \n",
      "35884   572    2   39      -1   32     10          4   24    17  \n",
      "12394  2736    3   33  100170  246     10          3   30     6  \n",
      "60738  2545    0  431      -1  221     10          3   30    14  \n",
      "\n",
      "[69999 rows x 26 columns]\n"
     ]
    }
   ],
   "source": [
    "def create_bootstrap_sample(df):\n",
    "    return df.sample(n= df.shape[0], replace = True)\n",
    "\n",
    "bootstrap_sample = create_bootstrap_sample(X_train)\n",
    "\n",
    "print('Number of rows should be the same:')\n",
    "print('Number of rows in X_train:  ', X_train.shape[0])\n",
    "print('Number of rows in bootstrap:', create_bootstrap_sample(X_train).shape[0])\n",
    "\n",
    "print(bootstrap_sample)"
   ]
  },
  {
   "cell_type": "code",
   "execution_count": 176,
   "id": "618a8f4f",
   "metadata": {},
   "outputs": [],
   "source": [
    "from sklearn.metrics import (\n",
    "    classification_report,\n",
    "    recall_score,\n",
    "    precision_score,\n",
    "    accuracy_score\n",
    ")"
   ]
  },
  {
   "cell_type": "code",
   "execution_count": 177,
   "id": "421b652c",
   "metadata": {},
   "outputs": [
    {
     "name": "stdout",
     "output_type": "stream",
     "text": [
      "Winning Model:\t {}, MODEL 1\n",
      "MODEL 1 Recall:\t 1.0\n",
      "MODEL 2 Recall:\t 1.0:\n"
     ]
    }
   ],
   "source": [
    "#Adaboost\n",
    "from sklearn.ensemble import AdaBoostClassifier\n",
    "from sklearn.tree import DecisionTreeClassifier\n",
    "base_est = DecisionTreeClassifier (max_depth =2)\n",
    "ada_boost1 = AdaBoostClassifier(base_est, n_estimators=500, random_state=42, learning_rate=.05)\n",
    "ada_boost1.fit(X_train, y_train)\n",
    "ada_boost2 = AdaBoostClassifier(base_est, n_estimators=20, random_state=42, learning_rate=.5)\n",
    "ada_boost2.fit(X_train, y_train)\n",
    "res1 = round(recall_score(y_test, ada_boost1.predict(X_test)),4)\n",
    "res2 = round(recall_score(y_test, ada_boost2.predict(X_test)),4)\n",
    "\n",
    "print('Winning Model:\\t {}, MODEL 1')\n",
    "print('MODEL 1 Recall:\\t {}'.format(res1))\n",
    "print('MODEL 2 Recall:\\t {}:'.format(res2))"
   ]
  },
  {
   "cell_type": "code",
   "execution_count": 180,
   "id": "d050622a",
   "metadata": {},
   "outputs": [
    {
     "name": "stdout",
     "output_type": "stream",
     "text": [
      "Recall :\t 1.0\n",
      "Precision :\t 1.0:\n"
     ]
    }
   ],
   "source": [
    "#Gradient Boosted Trees (GBT)\n",
    "from sklearn.ensemble import GradientBoostingClassifier\n",
    "gbc = GradientBoostingClassifier(random_state=42).fit(X_train, y_train)\n",
    "gbc_pred = gbc.predict(X_test)\n",
    "recall_gbc = round(recall_score(y_test, gbc_pred),4)\n",
    "precision_gbc = round(precision_score(y_test, gbc_pred),4)\n",
    "\n",
    "print('Recall :\\t {}'.format(recall_gbc))\n",
    "print('Precision :\\t {}:'.format(precision_gbc))"
   ]
  },
  {
   "cell_type": "code",
   "execution_count": 181,
   "id": "68dc4052",
   "metadata": {},
   "outputs": [],
   "source": [
    "#Feature Importance. Again click has the highest feature importance\n",
    "feature_importances = gbc.feature_importances_\n",
    "features = X_train.columns\n",
    "df = pd.DataFrame({'features': features, 'importance': feature_importances}).nlargest"
   ]
  },
  {
   "cell_type": "code",
   "execution_count": 182,
   "id": "a1cf2dba",
   "metadata": {},
   "outputs": [
    {
     "data": {
      "text/plain": [
       "<bound method DataFrame.nlargest of              features    importance\n",
       "0               click  1.000000e+00\n",
       "1                  C1  0.000000e+00\n",
       "2          banner_pos  0.000000e+00\n",
       "3         site_id_int  4.024765e-14\n",
       "4     site_domain_int  0.000000e+00\n",
       "5   site_category_int  0.000000e+00\n",
       "6          app_id_int  0.000000e+00\n",
       "7      app_domain_int  0.000000e+00\n",
       "8    app_category_int  0.000000e+00\n",
       "9       device_id_int  1.021286e-14\n",
       "10      device_ip_int  6.694704e-13\n",
       "11   device_model_int  1.971628e-16\n",
       "12        device_type  0.000000e+00\n",
       "13   device_conn_type  0.000000e+00\n",
       "14                C14  3.858710e-16\n",
       "15                C15  0.000000e+00\n",
       "16                C16  0.000000e+00\n",
       "17                C17  0.000000e+00\n",
       "18                C18  0.000000e+00\n",
       "19                C19  0.000000e+00\n",
       "20                C20  0.000000e+00\n",
       "21                C21  0.000000e+00\n",
       "22              month  0.000000e+00\n",
       "23          dayofweek  0.000000e+00\n",
       "24                day  0.000000e+00\n",
       "25               hour  0.000000e+00>"
      ]
     },
     "execution_count": 182,
     "metadata": {},
     "output_type": "execute_result"
    }
   ],
   "source": [
    "df"
   ]
  }
 ],
 "metadata": {
  "kernelspec": {
   "display_name": "Python 3 (ipykernel)",
   "language": "python",
   "name": "python3"
  },
  "language_info": {
   "codemirror_mode": {
    "name": "ipython",
    "version": 3
   },
   "file_extension": ".py",
   "mimetype": "text/x-python",
   "name": "python",
   "nbconvert_exporter": "python",
   "pygments_lexer": "ipython3",
   "version": "3.10.7"
  }
 },
 "nbformat": 4,
 "nbformat_minor": 5
}
